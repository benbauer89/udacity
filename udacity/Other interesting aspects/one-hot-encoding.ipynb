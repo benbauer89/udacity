{
 "cells": [
  {
   "cell_type": "code",
   "execution_count": 33,
   "metadata": {
    "collapsed": false
   },
   "outputs": [],
   "source": [
    "# In this exercise we'll load the titanic data (from Project 0)\n",
    "# And then perform one-hot encoding on the feature names\n",
    "\n",
    "import numpy as np\n",
    "import pandas as pd\n",
    "\n",
    "# Load the dataset\n",
    "X = pd.read_csv('C:/Users/bbauer/Desktop/Scripts/train.csv')\n",
    "\n",
    "# Limit to categorical data\n",
    "X = X.select_dtypes(include=[object])\n",
    "\n",
    "from sklearn.preprocessing import LabelEncoder\n",
    "from sklearn.preprocessing import OneHotEncoder\n",
    "\n",
    "le = LabelEncoder()\n",
    "\n",
    "le.fit(X['Embarked'])\n",
    "\n",
    "X['Embarked2'] = le.transform(X['Embarked'])"
   ]
  },
  {
   "cell_type": "code",
   "execution_count": 43,
   "metadata": {
    "collapsed": false
   },
   "outputs": [],
   "source": [
    "import numpy as np\n",
    "import pandas as pd\n",
    "\n",
    "# Load the dataset\n",
    "X = pd.read_csv('C:/Users/bbauer/Desktop/Scripts/train.csv')\n",
    "\n",
    "# Limit to categorical data\n",
    "X = X.select_dtypes(include=[object])\n",
    "\n",
    "le = LabelEncoder()\n",
    "\n",
    "# TODO: For each feature in X, apply the LabelEncoder's fit_transform\n",
    "#       function, which will first learn the labels for the feature (fit)\n",
    "#       and then change the labels to numbers (transform). \n",
    "\n",
    "for feature in X:\n",
    "      le.fit(X[feature])\n",
    "      X[feature] = le.transform(X[feature])\n",
    "\n",
    "# TODO: Create a OneHotEncoder object, which will create a feature for each\n",
    "#       label present in the data. For example, for a feature 'animal' that had\n",
    "#       the labels ['cat','dog','fish'], the new features (instead of 'animal') \n",
    "#       could be ['animal_cat', 'animal_dog', 'animal_fish']\n",
    "\n",
    "ohe = OneHotEncoder()\n",
    "\n",
    "# TODO: Apply the OneHotEncoder's fit_transform function to all of X, which will\n",
    "#       first learn of all the (now numerical) labels in the data (fit), and then\n",
    "#       change the data to one-hot encoded entries (transform).\n",
    "\n",
    "ohe.fit(X)\n",
    "onehotlabels = ohe.transform(X)"
   ]
  },
  {
   "cell_type": "code",
   "execution_count": 45,
   "metadata": {
    "collapsed": false
   },
   "outputs": [
    {
     "data": {
      "text/plain": [
       "<891x1726 sparse matrix of type '<type 'numpy.float64'>'\n",
       "\twith 4455 stored elements in Compressed Sparse Row format>"
      ]
     },
     "execution_count": 45,
     "metadata": {},
     "output_type": "execute_result"
    }
   ],
   "source": [
    "onehotlabels"
   ]
  }
 ],
 "metadata": {
  "kernelspec": {
   "display_name": "Python [conda root]",
   "language": "python",
   "name": "conda-root-py"
  },
  "language_info": {
   "codemirror_mode": {
    "name": "ipython",
    "version": 2
   },
   "file_extension": ".py",
   "mimetype": "text/x-python",
   "name": "python",
   "nbconvert_exporter": "python",
   "pygments_lexer": "ipython2",
   "version": "2.7.12"
  }
 },
 "nbformat": 4,
 "nbformat_minor": 1
}
